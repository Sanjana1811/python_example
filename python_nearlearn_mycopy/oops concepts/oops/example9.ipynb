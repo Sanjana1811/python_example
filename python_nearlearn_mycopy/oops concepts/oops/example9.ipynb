{
 "cells": [
  {
   "cell_type": "code",
   "execution_count": 52,
   "metadata": {},
   "outputs": [],
   "source": [
    "# creating a stack using class \n",
    "class Stack():\n",
    "    def __init__(self):\n",
    "        self.values = []\n",
    "    \n",
    "    # appening to  the stack\n",
    "    def push(self,val):\n",
    "        self.values.append(val)\n",
    "\n",
    "    # finding the length of the stack \n",
    "    def length(self):\n",
    "        size = len(self.values)\n",
    "        # print(size)\n",
    "        if size == 0:\n",
    "            print(\"stack is empty\")\n",
    "        else:\n",
    "            print(\"stack is not empty\")\n",
    "    \n",
    "    # peek the  last element\n",
    "    def peek(self):\n",
    "        print(self.values[-1])\n",
    "\n",
    "    # pop  the element from the stack \n",
    "    def remove(self,val):\n",
    "        for i in self.values:\n",
    "            if val in self.values:\n",
    "                print(\"ELement popped\",self.values.remove(val))\n",
    "\n",
    "\n",
    "\n",
    "    # gettint the size of the stack\n",
    "    def size(self):\n",
    "        print(\"Size of the stack is\",len(self.values))\n",
    "     "
   ]
  },
  {
   "cell_type": "code",
   "execution_count": 53,
   "metadata": {},
   "outputs": [
    {
     "name": "stdout",
     "output_type": "stream",
     "text": [
      "stack is empty\n"
     ]
    }
   ],
   "source": [
    "\n",
    "stack1 = Stack()\n",
    "# lets check the  length\n",
    "stack1.length()\n"
   ]
  },
  {
   "cell_type": "code",
   "execution_count": 54,
   "metadata": {},
   "outputs": [],
   "source": [
    "# appending values to  stack \n",
    "stack1.push(10)"
   ]
  },
  {
   "cell_type": "code",
   "execution_count": 55,
   "metadata": {},
   "outputs": [],
   "source": [
    "stack1.push(20)"
   ]
  },
  {
   "cell_type": "code",
   "execution_count": 56,
   "metadata": {},
   "outputs": [
    {
     "name": "stdout",
     "output_type": "stream",
     "text": [
      "stack is not empty\n"
     ]
    }
   ],
   "source": [
    "# lets check the  length\n",
    "stack1.length()\n"
   ]
  },
  {
   "cell_type": "code",
   "execution_count": 57,
   "metadata": {},
   "outputs": [
    {
     "name": "stdout",
     "output_type": "stream",
     "text": [
      "20\n"
     ]
    }
   ],
   "source": [
    "# lets check the last  element \n",
    "stack1.peek()"
   ]
  },
  {
   "cell_type": "code",
   "execution_count": 58,
   "metadata": {},
   "outputs": [
    {
     "name": "stdout",
     "output_type": "stream",
     "text": [
      "ELement popped None\n"
     ]
    }
   ],
   "source": [
    "#  remove an  element \n",
    "stack1.remove(10)"
   ]
  },
  {
   "cell_type": "code",
   "execution_count": 59,
   "metadata": {},
   "outputs": [
    {
     "name": "stdout",
     "output_type": "stream",
     "text": [
      "Size of the stack is 1\n"
     ]
    }
   ],
   "source": [
    "# size of an element \n",
    "stack1.size()"
   ]
  }
 ],
 "metadata": {
  "kernelspec": {
   "display_name": "Python 3",
   "language": "python",
   "name": "python3"
  },
  "language_info": {
   "codemirror_mode": {
    "name": "ipython",
    "version": 3
   },
   "file_extension": ".py",
   "mimetype": "text/x-python",
   "name": "python",
   "nbconvert_exporter": "python",
   "pygments_lexer": "ipython3",
   "version": "3.9.10"
  }
 },
 "nbformat": 4,
 "nbformat_minor": 2
}
